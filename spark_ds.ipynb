{
 "cells": [
  {
   "cell_type": "markdown",
   "id": "36625d82-f629-4216-bc87-cd2f8c53c739",
   "metadata": {},
   "source": [
    "# Сортировка продуктов по категориям в Pyspark"
   ]
  },
  {
   "cell_type": "markdown",
   "id": "fc697998-4368-4749-afaf-8ed7891ffba2",
   "metadata": {},
   "source": [
    "В PySpark приложении датафреймами(pyspark.sql.DataFrame) заданы продукты, категории и их связи. Каждому продукту может соответствовать несколько категорий или ни одной. А каждой категории может соответствовать несколько продуктов или ни одного. Напишите метод на PySpark, который в одном датафрейме вернет все пары «Имя продукта – Имя категории» и имена всех продуктов, у которых нет категорий. "
   ]
  },
  {
   "cell_type": "markdown",
   "id": "4fdc2351-cc95-49f3-a236-fab7af6b59a5",
   "metadata": {},
   "source": [
    "## Импортируем библиотеки"
   ]
  },
  {
   "cell_type": "code",
   "execution_count": 1,
   "id": "e4fa68e1-1ee3-47b3-b57c-0f835f478325",
   "metadata": {},
   "outputs": [],
   "source": [
    "from pyspark.sql import SparkSession, DataFrame\n"
   ]
  },
  {
   "cell_type": "code",
   "execution_count": 2,
   "id": "92efe84c-576d-4dba-90cd-5a114818c75f",
   "metadata": {},
   "outputs": [
    {
     "name": "stderr",
     "output_type": "stream",
     "text": [
      "24/07/23 14:00:18 WARN Utils: Your hostname, benji-swiftsf314511 resolves to a loopback address: 127.0.1.1; using 192.168.0.15 instead (on interface wlp0s20f3)\n",
      "24/07/23 14:00:18 WARN Utils: Set SPARK_LOCAL_IP if you need to bind to another address\n",
      "Setting default log level to \"WARN\".\n",
      "To adjust logging level use sc.setLogLevel(newLevel). For SparkR, use setLogLevel(newLevel).\n",
      "24/07/23 14:00:19 WARN NativeCodeLoader: Unable to load native-hadoop library for your platform... using builtin-java classes where applicable\n"
     ]
    }
   ],
   "source": [
    "spark = SparkSession.builder.appName(\"pyspark_ds\").getOrCreate()"
   ]
  },
  {
   "cell_type": "code",
   "execution_count": 3,
   "id": "73378c41-e50d-4ca1-bc44-f49ddcf74a88",
   "metadata": {},
   "outputs": [],
   "source": [
    "data_category = [{\"Category\": 'A', \"id\": 1},\n",
    "                 {\"Category\": 'B', \"id\": 2},\n",
    "                 {\"Category\": 'C', \"id\": 3},\n",
    "                 {\"Category\": 'E', \"id\": 4}\n",
    "        ]"
   ]
  },
  {
   "cell_type": "code",
   "execution_count": null,
   "id": "3c4bfe1d-866d-48ac-9087-f3173cf26c1f",
   "metadata": {},
   "outputs": [],
   "source": []
  },
  {
   "cell_type": "code",
   "execution_count": null,
   "id": "2e26bc7a-04a4-4901-afd6-def38a376729",
   "metadata": {},
   "outputs": [],
   "source": []
  },
  {
   "cell_type": "markdown",
   "id": "a7e301bd-c619-4c04-aea2-73739ea6dfc1",
   "metadata": {},
   "source": [
    "## Создаем Датафреймы"
   ]
  },
  {
   "cell_type": "code",
   "execution_count": 4,
   "id": "f28b5da2-774b-43db-8abd-10bfe1f4b199",
   "metadata": {},
   "outputs": [],
   "source": [
    "category_data = spark.createDataFrame([\n",
    "    (1, \"Category A\"),\n",
    "    (2, \"Category B\"),\n",
    "    (3, \"Category C\"),\n",
    "    (4, \"Category D\"),],\n",
    "    [\"id\", \"category_name\"],\n",
    ")\n"
   ]
  },
  {
   "cell_type": "code",
   "execution_count": 5,
   "id": "00b55da3-bed4-4294-8771-edc88abee719",
   "metadata": {},
   "outputs": [
    {
     "data": {
      "text/plain": [
       "DataFrame[id: bigint, category_name: string]"
      ]
     },
     "execution_count": 5,
     "metadata": {},
     "output_type": "execute_result"
    }
   ],
   "source": [
    "category_data"
   ]
  },
  {
   "cell_type": "code",
   "execution_count": 6,
   "id": "9d561f89-19c5-4e39-88d5-96c2513c65b1",
   "metadata": {},
   "outputs": [
    {
     "name": "stderr",
     "output_type": "stream",
     "text": [
      "                                                                                \r"
     ]
    },
    {
     "data": {
      "text/plain": [
       "[Row(id=1, category_name='Category A'),\n",
       " Row(id=2, category_name='Category B'),\n",
       " Row(id=3, category_name='Category C'),\n",
       " Row(id=4, category_name='Category D')]"
      ]
     },
     "execution_count": 6,
     "metadata": {},
     "output_type": "execute_result"
    }
   ],
   "source": [
    "category_data.head(4)"
   ]
  },
  {
   "cell_type": "code",
   "execution_count": 7,
   "id": "98a0f933-4ae6-4970-9805-078eee8f31e6",
   "metadata": {},
   "outputs": [],
   "source": [
    "product_data = spark.createDataFrame([\n",
    "    (1, \"Product 1\"),\n",
    "    (2, \"Product 2\"),\n",
    "    (3, \"Product 3\"),\n",
    "    (4, \"Product 4\"),\n",
    "    (5, \"Product 5\"),\n",
    "    (6, \"Product 6\"),\n",
    "    (7, \"Product 7\"),\n",
    "    (8, \"Product 8\"),\n",
    "    (9, \"Product 9\"),\n",
    "    (10, \"Product 10\"), \n",
    "    (11, \"Product 11\"),\n",
    "    (12, \"Product 12\"),\n",
    "    (13, \"Product 13\"),\n",
    "    (14, \"Product 14\"),\n",
    "    (15, \"Product 15\"),],\n",
    "    [\"id\", \"product_name\", ]\n",
    ")"
   ]
  },
  {
   "cell_type": "code",
   "execution_count": 8,
   "id": "9b7818d5-7941-4ed9-b068-ca75f80e769e",
   "metadata": {},
   "outputs": [
    {
     "data": {
      "text/plain": [
       "DataFrame[id: bigint, product_name: string]"
      ]
     },
     "execution_count": 8,
     "metadata": {},
     "output_type": "execute_result"
    }
   ],
   "source": [
    "product_data"
   ]
  },
  {
   "cell_type": "code",
   "execution_count": 9,
   "id": "859bc65c-2775-49ec-8559-26c270537a76",
   "metadata": {},
   "outputs": [
    {
     "data": {
      "text/plain": [
       "[Row(id=1, product_name='Product 1'),\n",
       " Row(id=2, product_name='Product 2'),\n",
       " Row(id=3, product_name='Product 3'),\n",
       " Row(id=4, product_name='Product 4'),\n",
       " Row(id=5, product_name='Product 5')]"
      ]
     },
     "execution_count": 9,
     "metadata": {},
     "output_type": "execute_result"
    }
   ],
   "source": [
    "product_data.head(5)"
   ]
  },
  {
   "cell_type": "markdown",
   "id": "8b290098-895e-47de-b8f6-7c66614f7a5e",
   "metadata": {},
   "source": [
    "## Создаем фрейм со связями"
   ]
  },
  {
   "cell_type": "code",
   "execution_count": 10,
   "id": "166d66ad-cb65-4030-b084-50b5df5b086b",
   "metadata": {},
   "outputs": [],
   "source": [
    "connections_data = spark.createDataFrame([\n",
    "    (2, 1),\n",
    "    (3, 3),\n",
    "    (4, 7),\n",
    "    (3, 4),\n",
    "    (2, 4),\n",
    "    (4, 5),\n",
    "    (1, 6),\n",
    "    (3, 7),\n",
    "    (2, 8),\n",
    "    (4, 2),\n",
    "    (1, 8),\n",
    "    (4, 9),\n",
    "    (3, 7),\n",
    "    (2, 12),\n",
    "    (3, 15)],\n",
    "    [\"category_id\", \"product_id\", ]\n",
    ")"
   ]
  },
  {
   "cell_type": "code",
   "execution_count": 11,
   "id": "98654c5c-907f-4f10-a04d-04ef28973af2",
   "metadata": {},
   "outputs": [
    {
     "data": {
      "text/plain": [
       "DataFrame[category_id: bigint, product_id: bigint]"
      ]
     },
     "execution_count": 11,
     "metadata": {},
     "output_type": "execute_result"
    }
   ],
   "source": [
    "connections_data"
   ]
  },
  {
   "cell_type": "code",
   "execution_count": 12,
   "id": "909ca90d-cd2a-4ac9-bb4c-03234b9406e9",
   "metadata": {},
   "outputs": [
    {
     "data": {
      "text/plain": [
       "DataFrame[category_id: bigint, product_id: bigint]"
      ]
     },
     "execution_count": 12,
     "metadata": {},
     "output_type": "execute_result"
    }
   ],
   "source": [
    "connections_data"
   ]
  },
  {
   "cell_type": "markdown",
   "id": "e4351eb2-7c4e-48f4-abff-3b0985d3ca1d",
   "metadata": {},
   "source": [
    "## Создадим результирующий фрейм"
   ]
  },
  {
   "cell_type": "code",
   "execution_count": 13,
   "id": "e952bceb-7081-4e84-9701-0d09bf2984d7",
   "metadata": {},
   "outputs": [],
   "source": [
    "data_final = (product_data.join(connections_data, product_data.id == connections_data.product_id, how='left')\n",
    "    .join(category_data, connections_data.category_id == category_data.id, how='left')\n",
    "    .select(['category_name', 'product_name'])\n",
    ")"
   ]
  },
  {
   "cell_type": "code",
   "execution_count": 14,
   "id": "23b24e63-424f-41a2-946f-275cfcfe0227",
   "metadata": {},
   "outputs": [
    {
     "name": "stderr",
     "output_type": "stream",
     "text": [
      "                                                                                \r"
     ]
    },
    {
     "name": "stdout",
     "output_type": "stream",
     "text": [
      "+-------------+------------+\n",
      "|category_name|product_name|\n",
      "+-------------+------------+\n",
      "|         NULL|  Product 10|\n",
      "|         NULL|  Product 11|\n",
      "|         NULL|  Product 13|\n",
      "|         NULL|  Product 14|\n",
      "|   Category A|   Product 6|\n",
      "|   Category A|   Product 8|\n",
      "|   Category B|   Product 1|\n",
      "|   Category B|   Product 4|\n",
      "|   Category B|   Product 8|\n",
      "|   Category B|  Product 12|\n",
      "|   Category C|   Product 3|\n",
      "|   Category C|   Product 4|\n",
      "|   Category C|   Product 7|\n",
      "|   Category C|   Product 7|\n",
      "|   Category C|  Product 15|\n",
      "|   Category D|   Product 2|\n",
      "|   Category D|   Product 5|\n",
      "|   Category D|   Product 7|\n",
      "|   Category D|   Product 9|\n",
      "+-------------+------------+\n",
      "\n"
     ]
    }
   ],
   "source": [
    "data_final.orderBy(\"category_id\", \"product_id\", ).show()"
   ]
  },
  {
   "cell_type": "code",
   "execution_count": null,
   "id": "d16a5c36-f105-480b-91a2-0ea147d272d1",
   "metadata": {},
   "outputs": [],
   "source": []
  }
 ],
 "metadata": {
  "kernelspec": {
   "display_name": "Python 3 (ipykernel)",
   "language": "python",
   "name": "python3"
  },
  "language_info": {
   "codemirror_mode": {
    "name": "ipython",
    "version": 3
   },
   "file_extension": ".py",
   "mimetype": "text/x-python",
   "name": "python",
   "nbconvert_exporter": "python",
   "pygments_lexer": "ipython3",
   "version": "3.12.4"
  }
 },
 "nbformat": 4,
 "nbformat_minor": 5
}
